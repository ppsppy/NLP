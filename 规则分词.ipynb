{
 "cells": [
  {
   "cell_type": "markdown",
   "metadata": {},
   "source": [
    "主要包括：正向最大匹配法、逆向最大匹配法和双向最大匹配法三种算法"
   ]
  },
  {
   "cell_type": "markdown",
   "metadata": {},
   "source": [
    "词典保存在imm_dic.txt文件中，需要时可以修改"
   ]
  },
  {
   "cell_type": "markdown",
   "metadata": {},
   "source": [
    "### 正向最大匹配法"
   ]
  },
  {
   "cell_type": "markdown",
   "metadata": {},
   "source": [
    "假设最长词有n个字符，在词典中匹配，若匹配成功则开始匹配接下来的n个字符；若匹配失败，则n=n-1，重新搜索字典。"
   ]
  },
  {
   "cell_type": "code",
   "execution_count": 92,
   "metadata": {},
   "outputs": [],
   "source": [
    "class MM():\n",
    "    def __init__(self,dic_path):\n",
    "        self.dictionary=set()\n",
    "        self.maximum=0\n",
    "        \n",
    "        #读取字典\n",
    "        with open(dic_path,'r') as f:\n",
    "            for line in f.readlines():\n",
    "                line=line.strip()\n",
    "                \n",
    "                if not line:\n",
    "                    continue\n",
    "                \n",
    "                self.dictionary.add(line)\n",
    "                self.maximum=max(self.maximum,len(line))\n",
    "                \n",
    "    def cut(self,text):\n",
    "        #从文中开头开始比较，直到文中所有字都被划分过\n",
    "        result=[]\n",
    "        index=0  #index记录下一个匹配的字的开头\n",
    "        while index<len(text):\n",
    "            #查找最长词组是否匹配，若匹配，则index改变，若不匹配；则最长词组长度减一，继续匹配；\n",
    "            #若没有匹配项，则打印该字，并从下一个字开始匹配。\n",
    "            maximum=self.maximum\n",
    "            while maximum>0:\n",
    "                words=text[index:index+maximum]\n",
    "                if words in self.dictionary:\n",
    "                    result.append(words)\n",
    "                    index+=maximum\n",
    "                    break\n",
    "                else:\n",
    "                    maximum-=1\n",
    "            if maximum==0:\n",
    "                print('字典中没有\"{}\"这个词，请更新词典'.format(text[index]))\n",
    "                result.append(text[index])\n",
    "                index+=1\n",
    "        return result\n",
    "\n",
    "                \n",
    "            \n",
    "                "
   ]
  },
  {
   "cell_type": "code",
   "execution_count": 93,
   "metadata": {},
   "outputs": [],
   "source": [
    "def main():\n",
    "    text='南京市长江大桥'\n",
    "    tokenizer=MM('imm_dic.txt')\n",
    "    print('原文：{}'.format(text))\n",
    "    print('分词效果：{}'.format('/'.join(tokenizer.cut(text))))"
   ]
  },
  {
   "cell_type": "code",
   "execution_count": 94,
   "metadata": {},
   "outputs": [
    {
     "name": "stdout",
     "output_type": "stream",
     "text": [
      "原文：南京市长江大桥\n",
      "字典中没有\"江\"这个词，请更新词典\n",
      "分词效果：南京市长/江/大桥\n"
     ]
    }
   ],
   "source": [
    "main()"
   ]
  },
  {
   "cell_type": "markdown",
   "metadata": {},
   "source": [
    "### 逆向最大匹配法"
   ]
  },
  {
   "cell_type": "code",
   "execution_count": 54,
   "metadata": {},
   "outputs": [],
   "source": [
    "class RMM():\n",
    "    def __init__(self,dic_path):\n",
    "        self.dictionary = set()\n",
    "        self.maximum=0\n",
    "        #读取字典\n",
    "        with open(dic_path,'r') as f:\n",
    "            for line in f:\n",
    "                line = line.strip()\n",
    "                if not line:\n",
    "                    continue\n",
    "                self.dictionary.add(line)\n",
    "                #maximum 记录字典中最大词语长度\n",
    "                if len(line)>self.maximum:\n",
    "                    self.maximum=len(line)\n",
    "                \n",
    "    def cut(self,text):\n",
    "        result=[]\n",
    "        index=len(text)\n",
    "        while index>0:\n",
    "            word=None\n",
    "            for size in range(self.maximum,0,-1):\n",
    "                if index-size<0:\n",
    "                    continue\n",
    "                piece=text[(index-size):index]\n",
    "                if piece in self.dictionary:\n",
    "                    word=piece\n",
    "                    result.append(word)\n",
    "                    index-=size\n",
    "                    break\n",
    "            if word is None:\n",
    "                    index-=1\n",
    "        return result[::-1]\n"
   ]
  },
  {
   "cell_type": "code",
   "execution_count": 55,
   "metadata": {},
   "outputs": [],
   "source": [
    "def main():\n",
    "    text='南京市长江大桥'\n",
    "    tokenizer=RMM('imm_dic.txt')\n",
    "    print('原文：{}'.format(text))\n",
    "    print('分词效果：{}'.format('/'.join(tokenizer.cut(text))))"
   ]
  },
  {
   "cell_type": "code",
   "execution_count": 56,
   "metadata": {},
   "outputs": [
    {
     "name": "stdout",
     "output_type": "stream",
     "text": [
      "原文：南京市长江大桥\n",
      "分词效果：南京市/长江大桥\n"
     ]
    }
   ],
   "source": [
    "main()"
   ]
  },
  {
   "cell_type": "markdown",
   "metadata": {},
   "source": [
    "### 双向最大匹配法"
   ]
  },
  {
   "cell_type": "code",
   "execution_count": 99,
   "metadata": {},
   "outputs": [],
   "source": [
    "class BMM:\n",
    "    def __init__(self,dic_path):\n",
    "        self.dictionary = set()\n",
    "        self.maximum=0\n",
    "        with open(dic_path,'r') as f:\n",
    "            for line in f:\n",
    "                line = line.strip()\n",
    "                if not line:\n",
    "                    continue\n",
    "                self.dictionary.add(line)\n",
    "                if len(line)>self.maximum:\n",
    "                    self.maximum=len(line)\n",
    "                    \n",
    "    def mmcut(self,text):\n",
    "        result=[]\n",
    "        index=0  \n",
    "        while index<len(text):\n",
    "            maximum=self.maximum\n",
    "            while maximum>0:\n",
    "                words=text[index:index+maximum]\n",
    "                if words in self.dictionary:\n",
    "                    result.append(words)\n",
    "                    index+=maximum\n",
    "                    break\n",
    "                else:\n",
    "                    maximum-=1\n",
    "            if maximum==0:\n",
    "                result.append(text[index])\n",
    "                index+=1\n",
    "        return result\n",
    "    \n",
    "    def rmmcut(self,text):\n",
    "        result=[]\n",
    "        index=len(text)\n",
    "        while index>0:\n",
    "            word=None\n",
    "            for size in range(self.maximum,0,-1):\n",
    "                if index-size<0:\n",
    "                    continue\n",
    "                piece=text[(index-size):index]\n",
    "                if piece in self.dictionary:\n",
    "                    word=piece\n",
    "                    result.append(word)\n",
    "                    index-=size\n",
    "                    break\n",
    "            if word is None:\n",
    "                    index-=1\n",
    "        return result[::-1]\n",
    "    \n",
    "    def cut(self,text):\n",
    "        result=self.rmmcut(text) if len(self.rmmcut(text))<len(self.mmcut(text)) else self.mmcut(text)\n",
    "        return result\n",
    "    \n",
    "    "
   ]
  },
  {
   "cell_type": "code",
   "execution_count": 100,
   "metadata": {},
   "outputs": [],
   "source": [
    "def main():\n",
    "    text='南京市长江大桥'\n",
    "    tokenizer=BMM('imm_dic.txt')\n",
    "    print('原文：{}'.format(text))\n",
    "    print('分词效果：{}'.format('/'.join(tokenizer.cut(text))))"
   ]
  },
  {
   "cell_type": "code",
   "execution_count": 101,
   "metadata": {},
   "outputs": [
    {
     "name": "stdout",
     "output_type": "stream",
     "text": [
      "原文：南京市长江大桥\n",
      "分词效果：南京市/长江大桥\n"
     ]
    }
   ],
   "source": [
    "main()"
   ]
  },
  {
   "cell_type": "code",
   "execution_count": null,
   "metadata": {},
   "outputs": [],
   "source": []
  },
  {
   "cell_type": "code",
   "execution_count": null,
   "metadata": {},
   "outputs": [],
   "source": []
  },
  {
   "cell_type": "code",
   "execution_count": null,
   "metadata": {},
   "outputs": [],
   "source": []
  }
 ],
 "metadata": {
  "kernelspec": {
   "display_name": "Python 3",
   "language": "python",
   "name": "python3"
  },
  "language_info": {
   "codemirror_mode": {
    "name": "ipython",
    "version": 3
   },
   "file_extension": ".py",
   "mimetype": "text/x-python",
   "name": "python",
   "nbconvert_exporter": "python",
   "pygments_lexer": "ipython3",
   "version": "3.6.5"
  }
 },
 "nbformat": 4,
 "nbformat_minor": 2
}
